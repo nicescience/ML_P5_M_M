{
 "cells": [
  {
   "cell_type": "code",
   "execution_count": null,
   "metadata": {},
   "outputs": [],
   "source": [
    "import pandas as pd\n",
    "import numpy as np\n",
    "import matplotlib.pyplot as plt\n",
    "import seaborn as sns\n",
    "from bs4 import BeautifulSoup\n",
    "from langdetect import detect\n",
    "import re\n",
    "import nltk; nltk.download('popular')\n",
    "from nltk.corpus import stopwords\n",
    "from nltk.stem.wordnet import WordNetLemmatizer\n",
    "from nltk.stem.snowball import EnglishStemmer\n",
    "import spacy\n",
    "from spacy import displacy\n",
    "from tqdm import tqdm\n",
    "from sklearn.feature_extraction.text import TfidfVectorizer\n",
    "from sklearn.preprocessing import MultiLabelBinarizer\n",
    "from sklearn.model_selection import train_test_split\n",
    "import gensim\n",
    "from sklearn.linear_model import LogisticRegression\n",
    "from sklearn.multiclass import OneVsRestClassifier\n",
    "import gensim.corpora as corpora\n",
    "from gensim.utils import simple_preprocess\n",
    "from gensim.models import CoherenceModel\n",
    "from IPython.core.display import display, HTML\n",
    "from sklearn.decomposition import NMF\n",
    "from sklearn.model_selection import GridSearchCV\n",
    "from sklearn.metrics import classification_report\n",
    "from sklearn.metrics import jaccard_score\n",
    "from sklearn.ensemble import RandomForestClassifier\n",
    "import joblib\n",
    "from wordcloud import WordCloud\n",
    "import sklearn.metrics as metrics\n",
    "from sklearn.decomposition import TruncatedSVD\n",
    "from nltk.corpus import stopwords\n",
    "import pyLDAvis.gensim_models \n"
   ]
  },
  {
   "cell_type": "code",
   "execution_count": 30,
   "metadata": {},
   "outputs": [
    {
     "name": "stdout",
     "output_type": "stream",
     "text": [
      "df.shape :  (21288, 5)\n"
     ]
    }
   ],
   "source": [
    "#read data \n",
    "df_init=pd.read_csv('data/clean_data.csv' ,sep=\";\", index_col=0)\n",
    "#df explore\n",
    "print('df.shape : ' ,df_init.shape)\n"
   ]
  },
  {
   "cell_type": "code",
   "execution_count": 31,
   "metadata": {},
   "outputs": [
    {
     "data": {
      "text/html": [
       "<div>\n",
       "<style scoped>\n",
       "    .dataframe tbody tr th:only-of-type {\n",
       "        vertical-align: middle;\n",
       "    }\n",
       "\n",
       "    .dataframe tbody tr th {\n",
       "        vertical-align: top;\n",
       "    }\n",
       "\n",
       "    .dataframe thead th {\n",
       "        text-align: right;\n",
       "    }\n",
       "</style>\n",
       "<table border=\"1\" class=\"dataframe\">\n",
       "  <thead>\n",
       "    <tr style=\"text-align: right;\">\n",
       "      <th></th>\n",
       "      <th>Title</th>\n",
       "      <th>Body</th>\n",
       "      <th>Score</th>\n",
       "      <th>Tags</th>\n",
       "      <th>Text</th>\n",
       "    </tr>\n",
       "  </thead>\n",
       "  <tbody>\n",
       "    <tr>\n",
       "      <th>0</th>\n",
       "      <td>['core', 'dump', 'linux', 'segmentation', 'fau...</td>\n",
       "      <td>['process', 'linux', 'segmentation', 'fault', ...</td>\n",
       "      <td>237</td>\n",
       "      <td>['linux']</td>\n",
       "      <td>['core', 'dump', 'linux', 'segmentation', 'fau...</td>\n",
       "    </tr>\n",
       "    <tr>\n",
       "      <th>1</th>\n",
       "      <td>['php', 'server', 'mysql', 'server', 'time', '...</td>\n",
       "      <td>['package', 'godaddy', 'network', 'solution', ...</td>\n",
       "      <td>12</td>\n",
       "      <td>['php', 'mysql']</td>\n",
       "      <td>['php', 'server', 'mysql', 'server', 'time', '...</td>\n",
       "    </tr>\n",
       "    <tr>\n",
       "      <th>2</th>\n",
       "      <td>['autolayout', 'constraint', 'landscape', 'por...</td>\n",
       "      <td>['constraint', 'device', 'example', 'image', '...</td>\n",
       "      <td>48</td>\n",
       "      <td>['ios', 'cocoa-touch']</td>\n",
       "      <td>['autolayout', 'constraint', 'landscape', 'por...</td>\n",
       "    </tr>\n",
       "    <tr>\n",
       "      <th>3</th>\n",
       "      <td>['loading', 'system', 'servicemodel', 'configu...</td>\n",
       "      <td>['c#', '.net', 'wcf', 'wcf', 'configuration', ...</td>\n",
       "      <td>64</td>\n",
       "      <td>['c#', '.net']</td>\n",
       "      <td>['loading', 'system', 'servicemodel', 'configu...</td>\n",
       "    </tr>\n",
       "    <tr>\n",
       "      <th>4</th>\n",
       "      <td>['sql', 'database', 'design', 'tag']</td>\n",
       "      <td>['way', 'tagging', 'mapping', 'table', 'tagid'...</td>\n",
       "      <td>324</td>\n",
       "      <td>['sql']</td>\n",
       "      <td>['sql', 'database', 'design', 'tag', 'way', 't...</td>\n",
       "    </tr>\n",
       "  </tbody>\n",
       "</table>\n",
       "</div>"
      ],
      "text/plain": [
       "                                               Title  \\\n",
       "0  ['core', 'dump', 'linux', 'segmentation', 'fau...   \n",
       "1  ['php', 'server', 'mysql', 'server', 'time', '...   \n",
       "2  ['autolayout', 'constraint', 'landscape', 'por...   \n",
       "3  ['loading', 'system', 'servicemodel', 'configu...   \n",
       "4               ['sql', 'database', 'design', 'tag']   \n",
       "\n",
       "                                                Body  Score  \\\n",
       "0  ['process', 'linux', 'segmentation', 'fault', ...    237   \n",
       "1  ['package', 'godaddy', 'network', 'solution', ...     12   \n",
       "2  ['constraint', 'device', 'example', 'image', '...     48   \n",
       "3  ['c#', '.net', 'wcf', 'wcf', 'configuration', ...     64   \n",
       "4  ['way', 'tagging', 'mapping', 'table', 'tagid'...    324   \n",
       "\n",
       "                     Tags                                               Text  \n",
       "0               ['linux']  ['core', 'dump', 'linux', 'segmentation', 'fau...  \n",
       "1        ['php', 'mysql']  ['php', 'server', 'mysql', 'server', 'time', '...  \n",
       "2  ['ios', 'cocoa-touch']  ['autolayout', 'constraint', 'landscape', 'por...  \n",
       "3          ['c#', '.net']  ['loading', 'system', 'servicemodel', 'configu...  \n",
       "4                 ['sql']  ['sql', 'database', 'design', 'tag', 'way', 't...  "
      ]
     },
     "execution_count": 31,
     "metadata": {},
     "output_type": "execute_result"
    }
   ],
   "source": [
    "df_init.head()"
   ]
  },
  {
   "cell_type": "code",
   "execution_count": 34,
   "metadata": {},
   "outputs": [
    {
     "name": "stdout",
     "output_type": "stream",
     "text": [
      "X shape  (21288,)\n",
      "y shape  (21288,)\n"
     ]
    }
   ],
   "source": [
    "\n",
    "\n",
    "df_init[\"Text\"] = df_init[\"Title\"] + df_init[\"Body\"]\n",
    "df_init[\"Text\"].head(3)\n",
    "X = df_init[\"Text\"]\n",
    "y = df_init[\"Tags\"]\n",
    "\n",
    "print( \"X shape \", X.shape)\n",
    "print(\"y shape \",y.shape)\n",
    "\n",
    "\n"
   ]
  },
  {
   "cell_type": "code",
   "execution_count": 35,
   "metadata": {},
   "outputs": [
    {
     "data": {
      "text/plain": [
       "0    ['core', 'dump', 'linux', 'segmentation', 'fau...\n",
       "1    ['php', 'server', 'mysql', 'server', 'time', '...\n",
       "2    ['autolayout', 'constraint', 'landscape', 'por...\n",
       "Name: Text, dtype: object"
      ]
     },
     "execution_count": 35,
     "metadata": {},
     "output_type": "execute_result"
    }
   ],
   "source": [
    "X.head(3)"
   ]
  },
  {
   "cell_type": "code",
   "execution_count": 36,
   "metadata": {},
   "outputs": [
    {
     "data": {
      "text/plain": [
       "0                 ['linux']\n",
       "1          ['php', 'mysql']\n",
       "2    ['ios', 'cocoa-touch']\n",
       "Name: Tags, dtype: object"
      ]
     },
     "execution_count": 36,
     "metadata": {},
     "output_type": "execute_result"
    }
   ],
   "source": [
    "y.head(3)"
   ]
  },
  {
   "cell_type": "markdown",
   "metadata": {},
   "source": [
    "Transformation en matrix de TF-IDF features"
   ]
  },
  {
   "cell_type": "code",
   "execution_count": 37,
   "metadata": {},
   "outputs": [
    {
     "ename": "ValueError",
     "evalue": "empty vocabulary; perhaps the documents only contain stop words",
     "output_type": "error",
     "traceback": [
      "\u001b[1;31m---------------------------------------------------------------------------\u001b[0m",
      "\u001b[1;31mValueError\u001b[0m                                Traceback (most recent call last)",
      "\u001b[1;32mc:\\Users\\Maroua.Missaoui\\OneDrive\\Bureau\\OC\\ML_P5_MISSAOUI_Maroua\\models.ipynb Cell 8'\u001b[0m in \u001b[0;36m<cell line: 10>\u001b[1;34m()\u001b[0m\n\u001b[0;32m      <a href='vscode-notebook-cell:/c%3A/Users/Maroua.Missaoui/OneDrive/Bureau/OC/ML_P5_MISSAOUI_Maroua/models.ipynb#ch0000005?line=0'>1</a>\u001b[0m vectorizer \u001b[39m=\u001b[39m TfidfVectorizer(analyzer\u001b[39m=\u001b[39m\u001b[39m\"\u001b[39m\u001b[39mword\u001b[39m\u001b[39m\"\u001b[39m,\n\u001b[0;32m      <a href='vscode-notebook-cell:/c%3A/Users/Maroua.Missaoui/OneDrive/Bureau/OC/ML_P5_MISSAOUI_Maroua/models.ipynb#ch0000005?line=1'>2</a>\u001b[0m                              max_df\u001b[39m=\u001b[39m\u001b[39m0.5\u001b[39m,\n\u001b[0;32m      <a href='vscode-notebook-cell:/c%3A/Users/Maroua.Missaoui/OneDrive/Bureau/OC/ML_P5_MISSAOUI_Maroua/models.ipynb#ch0000005?line=2'>3</a>\u001b[0m                              min_df\u001b[39m=\u001b[39m\u001b[39m0.001\u001b[39m,\n\u001b[1;32m   (...)\u001b[0m\n\u001b[0;32m      <a href='vscode-notebook-cell:/c%3A/Users/Maroua.Missaoui/OneDrive/Bureau/OC/ML_P5_MISSAOUI_Maroua/models.ipynb#ch0000005?line=6'>7</a>\u001b[0m                              stop_words\u001b[39m=\u001b[39m\u001b[39m'\u001b[39m\u001b[39menglish\u001b[39m\u001b[39m'\u001b[39m,\n\u001b[0;32m      <a href='vscode-notebook-cell:/c%3A/Users/Maroua.Missaoui/OneDrive/Bureau/OC/ML_P5_MISSAOUI_Maroua/models.ipynb#ch0000005?line=7'>8</a>\u001b[0m                              lowercase\u001b[39m=\u001b[39m\u001b[39mFalse\u001b[39;00m)\n\u001b[1;32m---> <a href='vscode-notebook-cell:/c%3A/Users/Maroua.Missaoui/OneDrive/Bureau/OC/ML_P5_MISSAOUI_Maroua/models.ipynb#ch0000005?line=9'>10</a>\u001b[0m vectorizer\u001b[39m.\u001b[39;49mfit(X)\n\u001b[0;32m     <a href='vscode-notebook-cell:/c%3A/Users/Maroua.Missaoui/OneDrive/Bureau/OC/ML_P5_MISSAOUI_Maroua/models.ipynb#ch0000005?line=10'>11</a>\u001b[0m X_tf_idf \u001b[39m=\u001b[39m vectorizer\u001b[39m.\u001b[39mtransform(X)\n",
      "File \u001b[1;32mc:\\Users\\Maroua.Missaoui\\.virtualenvs\\ML_P5_MISSAOUI_Maroua-qMWVZngN\\lib\\site-packages\\sklearn\\feature_extraction\\text.py:2048\u001b[0m, in \u001b[0;36mTfidfVectorizer.fit\u001b[1;34m(self, raw_documents, y)\u001b[0m\n\u001b[0;32m   <a href='file:///c%3A/Users/Maroua.Missaoui/.virtualenvs/ML_P5_MISSAOUI_Maroua-qMWVZngN/lib/site-packages/sklearn/feature_extraction/text.py?line=2040'>2041</a>\u001b[0m \u001b[39mself\u001b[39m\u001b[39m.\u001b[39m_warn_for_unused_params()\n\u001b[0;32m   <a href='file:///c%3A/Users/Maroua.Missaoui/.virtualenvs/ML_P5_MISSAOUI_Maroua-qMWVZngN/lib/site-packages/sklearn/feature_extraction/text.py?line=2041'>2042</a>\u001b[0m \u001b[39mself\u001b[39m\u001b[39m.\u001b[39m_tfidf \u001b[39m=\u001b[39m TfidfTransformer(\n\u001b[0;32m   <a href='file:///c%3A/Users/Maroua.Missaoui/.virtualenvs/ML_P5_MISSAOUI_Maroua-qMWVZngN/lib/site-packages/sklearn/feature_extraction/text.py?line=2042'>2043</a>\u001b[0m     norm\u001b[39m=\u001b[39m\u001b[39mself\u001b[39m\u001b[39m.\u001b[39mnorm,\n\u001b[0;32m   <a href='file:///c%3A/Users/Maroua.Missaoui/.virtualenvs/ML_P5_MISSAOUI_Maroua-qMWVZngN/lib/site-packages/sklearn/feature_extraction/text.py?line=2043'>2044</a>\u001b[0m     use_idf\u001b[39m=\u001b[39m\u001b[39mself\u001b[39m\u001b[39m.\u001b[39muse_idf,\n\u001b[0;32m   <a href='file:///c%3A/Users/Maroua.Missaoui/.virtualenvs/ML_P5_MISSAOUI_Maroua-qMWVZngN/lib/site-packages/sklearn/feature_extraction/text.py?line=2044'>2045</a>\u001b[0m     smooth_idf\u001b[39m=\u001b[39m\u001b[39mself\u001b[39m\u001b[39m.\u001b[39msmooth_idf,\n\u001b[0;32m   <a href='file:///c%3A/Users/Maroua.Missaoui/.virtualenvs/ML_P5_MISSAOUI_Maroua-qMWVZngN/lib/site-packages/sklearn/feature_extraction/text.py?line=2045'>2046</a>\u001b[0m     sublinear_tf\u001b[39m=\u001b[39m\u001b[39mself\u001b[39m\u001b[39m.\u001b[39msublinear_tf,\n\u001b[0;32m   <a href='file:///c%3A/Users/Maroua.Missaoui/.virtualenvs/ML_P5_MISSAOUI_Maroua-qMWVZngN/lib/site-packages/sklearn/feature_extraction/text.py?line=2046'>2047</a>\u001b[0m )\n\u001b[1;32m-> <a href='file:///c%3A/Users/Maroua.Missaoui/.virtualenvs/ML_P5_MISSAOUI_Maroua-qMWVZngN/lib/site-packages/sklearn/feature_extraction/text.py?line=2047'>2048</a>\u001b[0m X \u001b[39m=\u001b[39m \u001b[39msuper\u001b[39;49m()\u001b[39m.\u001b[39;49mfit_transform(raw_documents)\n\u001b[0;32m   <a href='file:///c%3A/Users/Maroua.Missaoui/.virtualenvs/ML_P5_MISSAOUI_Maroua-qMWVZngN/lib/site-packages/sklearn/feature_extraction/text.py?line=2048'>2049</a>\u001b[0m \u001b[39mself\u001b[39m\u001b[39m.\u001b[39m_tfidf\u001b[39m.\u001b[39mfit(X)\n\u001b[0;32m   <a href='file:///c%3A/Users/Maroua.Missaoui/.virtualenvs/ML_P5_MISSAOUI_Maroua-qMWVZngN/lib/site-packages/sklearn/feature_extraction/text.py?line=2049'>2050</a>\u001b[0m \u001b[39mreturn\u001b[39;00m \u001b[39mself\u001b[39m\n",
      "File \u001b[1;32mc:\\Users\\Maroua.Missaoui\\.virtualenvs\\ML_P5_MISSAOUI_Maroua-qMWVZngN\\lib\\site-packages\\sklearn\\feature_extraction\\text.py:1338\u001b[0m, in \u001b[0;36mCountVectorizer.fit_transform\u001b[1;34m(self, raw_documents, y)\u001b[0m\n\u001b[0;32m   <a href='file:///c%3A/Users/Maroua.Missaoui/.virtualenvs/ML_P5_MISSAOUI_Maroua-qMWVZngN/lib/site-packages/sklearn/feature_extraction/text.py?line=1329'>1330</a>\u001b[0m             warnings\u001b[39m.\u001b[39mwarn(\n\u001b[0;32m   <a href='file:///c%3A/Users/Maroua.Missaoui/.virtualenvs/ML_P5_MISSAOUI_Maroua-qMWVZngN/lib/site-packages/sklearn/feature_extraction/text.py?line=1330'>1331</a>\u001b[0m                 \u001b[39m\"\u001b[39m\u001b[39mUpper case characters found in\u001b[39m\u001b[39m\"\u001b[39m\n\u001b[0;32m   <a href='file:///c%3A/Users/Maroua.Missaoui/.virtualenvs/ML_P5_MISSAOUI_Maroua-qMWVZngN/lib/site-packages/sklearn/feature_extraction/text.py?line=1331'>1332</a>\u001b[0m                 \u001b[39m\"\u001b[39m\u001b[39m vocabulary while \u001b[39m\u001b[39m'\u001b[39m\u001b[39mlowercase\u001b[39m\u001b[39m'\u001b[39m\u001b[39m\"\u001b[39m\n\u001b[0;32m   <a href='file:///c%3A/Users/Maroua.Missaoui/.virtualenvs/ML_P5_MISSAOUI_Maroua-qMWVZngN/lib/site-packages/sklearn/feature_extraction/text.py?line=1332'>1333</a>\u001b[0m                 \u001b[39m\"\u001b[39m\u001b[39m is True. These entries will not\u001b[39m\u001b[39m\"\u001b[39m\n\u001b[0;32m   <a href='file:///c%3A/Users/Maroua.Missaoui/.virtualenvs/ML_P5_MISSAOUI_Maroua-qMWVZngN/lib/site-packages/sklearn/feature_extraction/text.py?line=1333'>1334</a>\u001b[0m                 \u001b[39m\"\u001b[39m\u001b[39m be matched with any documents\u001b[39m\u001b[39m\"\u001b[39m\n\u001b[0;32m   <a href='file:///c%3A/Users/Maroua.Missaoui/.virtualenvs/ML_P5_MISSAOUI_Maroua-qMWVZngN/lib/site-packages/sklearn/feature_extraction/text.py?line=1334'>1335</a>\u001b[0m             )\n\u001b[0;32m   <a href='file:///c%3A/Users/Maroua.Missaoui/.virtualenvs/ML_P5_MISSAOUI_Maroua-qMWVZngN/lib/site-packages/sklearn/feature_extraction/text.py?line=1335'>1336</a>\u001b[0m             \u001b[39mbreak\u001b[39;00m\n\u001b[1;32m-> <a href='file:///c%3A/Users/Maroua.Missaoui/.virtualenvs/ML_P5_MISSAOUI_Maroua-qMWVZngN/lib/site-packages/sklearn/feature_extraction/text.py?line=1337'>1338</a>\u001b[0m vocabulary, X \u001b[39m=\u001b[39m \u001b[39mself\u001b[39;49m\u001b[39m.\u001b[39;49m_count_vocab(raw_documents, \u001b[39mself\u001b[39;49m\u001b[39m.\u001b[39;49mfixed_vocabulary_)\n\u001b[0;32m   <a href='file:///c%3A/Users/Maroua.Missaoui/.virtualenvs/ML_P5_MISSAOUI_Maroua-qMWVZngN/lib/site-packages/sklearn/feature_extraction/text.py?line=1339'>1340</a>\u001b[0m \u001b[39mif\u001b[39;00m \u001b[39mself\u001b[39m\u001b[39m.\u001b[39mbinary:\n\u001b[0;32m   <a href='file:///c%3A/Users/Maroua.Missaoui/.virtualenvs/ML_P5_MISSAOUI_Maroua-qMWVZngN/lib/site-packages/sklearn/feature_extraction/text.py?line=1340'>1341</a>\u001b[0m     X\u001b[39m.\u001b[39mdata\u001b[39m.\u001b[39mfill(\u001b[39m1\u001b[39m)\n",
      "File \u001b[1;32mc:\\Users\\Maroua.Missaoui\\.virtualenvs\\ML_P5_MISSAOUI_Maroua-qMWVZngN\\lib\\site-packages\\sklearn\\feature_extraction\\text.py:1228\u001b[0m, in \u001b[0;36mCountVectorizer._count_vocab\u001b[1;34m(self, raw_documents, fixed_vocab)\u001b[0m\n\u001b[0;32m   <a href='file:///c%3A/Users/Maroua.Missaoui/.virtualenvs/ML_P5_MISSAOUI_Maroua-qMWVZngN/lib/site-packages/sklearn/feature_extraction/text.py?line=1225'>1226</a>\u001b[0m     vocabulary \u001b[39m=\u001b[39m \u001b[39mdict\u001b[39m(vocabulary)\n\u001b[0;32m   <a href='file:///c%3A/Users/Maroua.Missaoui/.virtualenvs/ML_P5_MISSAOUI_Maroua-qMWVZngN/lib/site-packages/sklearn/feature_extraction/text.py?line=1226'>1227</a>\u001b[0m     \u001b[39mif\u001b[39;00m \u001b[39mnot\u001b[39;00m vocabulary:\n\u001b[1;32m-> <a href='file:///c%3A/Users/Maroua.Missaoui/.virtualenvs/ML_P5_MISSAOUI_Maroua-qMWVZngN/lib/site-packages/sklearn/feature_extraction/text.py?line=1227'>1228</a>\u001b[0m         \u001b[39mraise\u001b[39;00m \u001b[39mValueError\u001b[39;00m(\n\u001b[0;32m   <a href='file:///c%3A/Users/Maroua.Missaoui/.virtualenvs/ML_P5_MISSAOUI_Maroua-qMWVZngN/lib/site-packages/sklearn/feature_extraction/text.py?line=1228'>1229</a>\u001b[0m             \u001b[39m\"\u001b[39m\u001b[39mempty vocabulary; perhaps the documents only contain stop words\u001b[39m\u001b[39m\"\u001b[39m\n\u001b[0;32m   <a href='file:///c%3A/Users/Maroua.Missaoui/.virtualenvs/ML_P5_MISSAOUI_Maroua-qMWVZngN/lib/site-packages/sklearn/feature_extraction/text.py?line=1229'>1230</a>\u001b[0m         )\n\u001b[0;32m   <a href='file:///c%3A/Users/Maroua.Missaoui/.virtualenvs/ML_P5_MISSAOUI_Maroua-qMWVZngN/lib/site-packages/sklearn/feature_extraction/text.py?line=1231'>1232</a>\u001b[0m \u001b[39mif\u001b[39;00m indptr[\u001b[39m-\u001b[39m\u001b[39m1\u001b[39m] \u001b[39m>\u001b[39m np\u001b[39m.\u001b[39miinfo(np\u001b[39m.\u001b[39mint32)\u001b[39m.\u001b[39mmax:  \u001b[39m# = 2**31 - 1\u001b[39;00m\n\u001b[0;32m   <a href='file:///c%3A/Users/Maroua.Missaoui/.virtualenvs/ML_P5_MISSAOUI_Maroua-qMWVZngN/lib/site-packages/sklearn/feature_extraction/text.py?line=1232'>1233</a>\u001b[0m     \u001b[39mif\u001b[39;00m _IS_32BIT:\n",
      "\u001b[1;31mValueError\u001b[0m: empty vocabulary; perhaps the documents only contain stop words"
     ]
    }
   ],
   "source": [
    "vectorizer = TfidfVectorizer(analyzer=\"word\",\n",
    "                             max_df=0.5,\n",
    "                             min_df=0.001,\n",
    "                             ngram_range=[1,3],\n",
    "                             tokenizer=None,\n",
    "                             preprocessor=' '.join,\n",
    "                             stop_words='english',\n",
    "                             lowercase=False)\n",
    "\n",
    "vectorizer.fit(X)\n",
    "X_tf_idf = vectorizer.transform(X)\n",
    "\n"
   ]
  },
  {
   "cell_type": "code",
   "execution_count": null,
   "metadata": {},
   "outputs": [],
   "source": [
    "print('X_tf_idf.shape',X_tf_idf.shape,'\\n')\n",
    "print('y.shape',y.shape)"
   ]
  },
  {
   "cell_type": "code",
   "execution_count": null,
   "metadata": {},
   "outputs": [],
   "source": []
  }
 ],
 "metadata": {
  "interpreter": {
   "hash": "e1ba925e82f8bbbfafd091d4107b74b85ac466522c7107371cf31d06258cc04b"
  },
  "kernelspec": {
   "display_name": "Python 3.10.4 ('ML_P5_MISSAOUI_Maroua-qMWVZngN')",
   "language": "python",
   "name": "python3"
  },
  "language_info": {
   "codemirror_mode": {
    "name": "ipython",
    "version": 3
   },
   "file_extension": ".py",
   "mimetype": "text/x-python",
   "name": "python",
   "nbconvert_exporter": "python",
   "pygments_lexer": "ipython3",
   "version": "3.10.4"
  },
  "orig_nbformat": 4
 },
 "nbformat": 4,
 "nbformat_minor": 2
}
